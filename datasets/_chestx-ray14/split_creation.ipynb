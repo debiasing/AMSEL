{
 "cells": [
  {
   "cell_type": "code",
   "execution_count": null,
   "metadata": {},
   "outputs": [],
   "source": [
    "import csv\n",
    "from os.path import join\n",
    "import pandas as pd\n",
    "from sklearn.model_selection import train_test_split\n",
    "from copy import deepcopy\n",
    "\n",
    "root_dir = ... # Add your root directory here."
   ]
  },
  {
   "cell_type": "code",
   "execution_count": 2,
   "metadata": {},
   "outputs": [],
   "source": [
    "# Split training/validation into training and validation.\n",
    "metadata = pd.read_csv(join(root_dir, \"chestx-ray14\", \"nih_train_val_processed.csv\"))\n",
    "train_ids, val_ids = train_test_split(sorted(metadata[\"patient_id\"].unique()), train_size=0.8, random_state=42)\n",
    "\n",
    "# Select splits.\n",
    "train_split = metadata.query(\"patient_id in @train_ids\")\n",
    "val_split = metadata.query(\"patient_id in @val_ids\")\n",
    "train_split = deepcopy(train_split)\n",
    "val_split = deepcopy(val_split)\n",
    "test_split = pd.read_csv(join(root_dir, \"chestx-ray14\",  \"nih_test_processed.csv\"))\n",
    "\n",
    "# Label for export (to train model of Murali et al.).\n",
    "train_split[\"split\"] = \"train\"\n",
    "val_split[\"split\"] = \"val\"\n",
    "test_split[\"split\"] = \"test\"\n",
    "\n",
    "# Export.\n",
    "metadata = pd.concat([train_split, val_split, test_split], axis=0).sort_values(\"path\")\n",
    "metadata.to_csv(join(root_dir, \"chestx-ray14\", \"nih_full_for_murali.csv\"))"
   ]
  }
 ],
 "metadata": {
  "kernelspec": {
   "display_name": "bias-benchmark",
   "language": "python",
   "name": "python3"
  },
  "language_info": {
   "codemirror_mode": {
    "name": "ipython",
    "version": 3
   },
   "file_extension": ".py",
   "mimetype": "text/x-python",
   "name": "python",
   "nbconvert_exporter": "python",
   "pygments_lexer": "ipython3",
   "version": "3.12.4"
  }
 },
 "nbformat": 4,
 "nbformat_minor": 2
}
